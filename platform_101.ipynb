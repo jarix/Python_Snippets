{
 "cells": [
  {
   "cell_type": "code",
   "execution_count": 1,
   "metadata": {},
   "outputs": [],
   "source": [
    "import platform"
   ]
  },
  {
   "cell_type": "code",
   "execution_count": 2,
   "metadata": {},
   "outputs": [
    {
     "name": "stdout",
     "output_type": "stream",
     "text": [
      "System: Windows\n",
      "Release: 11\n",
      "Version: 10.0.26100\n",
      "Machine: AMD64\n",
      "Processor: Intel64 Family 6 Model 141 Stepping 1, GenuineIntel\n",
      "Python version: 3.12.7\n"
     ]
    }
   ],
   "source": [
    "print(\"System:\", platform.system())           # e.g., 'Windows', 'Linux', 'Darwin'\n",
    "print(\"Release:\", platform.release())         # OS release, e.g., '10' or '5.15.0'\n",
    "print(\"Version:\", platform.version())         # Detailed version\n",
    "print(\"Machine:\", platform.machine())         # e.g., 'x86_64'\n",
    "print(\"Processor:\", platform.processor())     # e.g., 'Intel64 Family 6 Model 158'\n",
    "print(\"Python version:\", platform.python_version())"
   ]
  },
  {
   "cell_type": "code",
   "execution_count": null,
   "metadata": {},
   "outputs": [],
   "source": []
  }
 ],
 "metadata": {
  "kernelspec": {
   "display_name": ".venv",
   "language": "python",
   "name": "python3"
  },
  "language_info": {
   "codemirror_mode": {
    "name": "ipython",
    "version": 3
   },
   "file_extension": ".py",
   "mimetype": "text/x-python",
   "name": "python",
   "nbconvert_exporter": "python",
   "pygments_lexer": "ipython3",
   "version": "3.12.7"
  }
 },
 "nbformat": 4,
 "nbformat_minor": 2
}
